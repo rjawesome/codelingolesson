{
 "cells": [
  {
   "attachments": {},
   "cell_type": "markdown",
   "metadata": {},
   "source": [
    "# Recursion\n",
    "- toc: false\n",
    "- badges: true\n",
    "- categories: [cb]\n",
    "- author: Codelingo"
   ]
  },
  {
   "attachments": {},
   "cell_type": "markdown",
   "metadata": {},
   "source": [
    "## What is Recursion?\n",
    "The term recursion refers to the fact that the same computation recurs, or occurs repeatedly, as the problem is solved.\n",
    "\n",
    "This method is a powerful technique for breaking up complex problems into simpler ones.\n",
    "\n",
    "Many simple recursions can be computed as loops. However, loop equivalents for more complex recursions can be complex.\n",
    "\n",
    "Recursive Computation:\n",
    "- solves a problem by using the solution to the same problem with simpler inputs\n",
    "- call pattern of a recursive method looks complicated, and the key to the successful design of a recursive method is not to think about it.\n",
    "\n",
    "Just as loops can run into the problem of infinite looping, recursive functions can run into the problem of infinite recursion. Infinite recursion is when the function never stops calling itself. Every recursive function should have a halting condition, which is the condition where the function stops calling itself."
   ]
  },
  {
   "cell_type": "code",
   "execution_count": 1,
   "metadata": {
    "vscode": {
     "languageId": "java"
    }
   },
   "outputs": [
    {
     "name": "stdout",
     "output_type": "stream",
     "text": [
      "10\n",
      "21\n",
      "33\n",
      "46\n",
      "60\n",
      "75\n",
      "91\n",
      "stop\n"
     ]
    }
   ],
   "source": [
    "int sum = 0;\n",
    "public void recursionex(int n) {\n",
    "    sum += n;\n",
    "    System.out.println(sum);\n",
    "    if (n>15) {\n",
    "        System.out.println(\"stop\");\n",
    "    }\n",
    "    else {\n",
    "        recursionex(n+1);\n",
    "    }\n",
    "  \n",
    "}\n",
    "recursionex(10);"
   ]
  },
  {
   "attachments": {},
   "cell_type": "markdown",
   "metadata": {},
   "source": [
    "## What do I need to watch out for?\n",
    "In infinite recursions, after a number of calls, all memory available for purpose is exhausted. Your computer shuts down and returns a “stack overflow”. \n",
    "\n",
    "This happens either when the arguments don’t get simpler or a special terminating case is missing."
   ]
  },
  {
   "cell_type": "code",
   "execution_count": 1,
   "metadata": {
    "vscode": {
     "languageId": "java"
    }
   },
   "outputs": [],
   "source": [
    "//fixed sheesh\n",
    "int sum = 0;\n",
    "public void infiniteex(int n) {\n",
    "    sum += n;\n",
    "    System.out.println(sum);\n",
    "    if (n>15) {\n",
    "        System.out.println(\"stop\");\n",
    "        return;\n",
    "    }\n",
    "    infiniteex(n+1);\n",
    "  \n",
    "}\n",
    "infiniteex(10);"
   ]
  },
  {
   "attachments": {},
   "cell_type": "markdown",
   "metadata": {},
   "source": [
    "## Tracing through Recursive Methods\n",
    "When you set a breakpoint in a recursive method, that project line is encountered in any call to the recursive method.\n",
    "\n",
    "Watch the call stack to understand which nested call you are currently in."
   ]
  },
  {
   "attachments": {},
   "cell_type": "markdown",
   "metadata": {},
   "source": [
    "## Recursion Hack:\n",
    "Save this code from infinite recursion. The code should print something like this:\n",
    "```\n",
    "**********\n",
    "*********\n",
    "********\n",
    "*******\n",
    "******\n",
    "*****\n",
    "****\n",
    "***\n",
    "**\n",
    "*\n",
    "```"
   ]
  },
  {
   "cell_type": "code",
   "execution_count": 1,
   "metadata": {
    "vscode": {
     "languageId": "java"
    }
   },
   "outputs": [
    {
     "name": "stdout",
     "output_type": "stream",
     "text": [
      "**********\n",
    "*********\n",
    "********\n",
    "*******\n",
    "******\n",
    "*****\n",
    "****\n",
    "***\n",
    "**\n",
    "*\n",
     ]
    }
   ],
   "source": [
    "public void drawLine(int n) {\n",
    "     if (n == 0) return;\n",
    "     for (int i = 1; i <= n; i++) {\n",
    "          System.out.print(\"*\");\n",
    "          System.out.println();\n",
    "          drawLine(n - 1);\n",
    "     }\n",
    "}\n",
    "drawLine(10);"
   ]
  }
 ],
 "metadata": {
  "kernelspec": {
   "display_name": "Java",
   "language": "java",
   "name": "java"
  },
  "language_info": {
   "codemirror_mode": "java",
   "file_extension": ".jshell",
   "mimetype": "text/x-java-source",
   "name": "Java",
   "pygments_lexer": "java",
   "version": "11.0.17+8-post-Ubuntu-1ubuntu220.04"
  },
  "orig_nbformat": 4
 },
 "nbformat": 4,
 "nbformat_minor": 2
}
