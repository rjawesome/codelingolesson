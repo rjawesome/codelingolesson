{
 "cells": [
  {
   "attachments": {},
   "cell_type": "markdown",
   "metadata": {},
   "source": [
    "# Sorting\n",
    "- toc: false\n",
    "- badges: true\n",
    "- categories: [cb]\n",
    "- author: Codelingo"
   ]
  },
  {
   "attachments": {},
   "cell_type": "markdown",
   "metadata": {},
   "source": [
    "## Insertion Sort\n",
    "A simple sorting algorithm that works similar to the way you sort playing cards in your hands. The array is virtually split into a sorted and an unsorted part. Values from the unsorted part are picked and placed at the correct position in the sorted part."
   ]
  },
  {
   "cell_type": "code",
   "execution_count": 13,
   "metadata": {
    "vscode": {
     "languageId": "java"
    }
   },
   "outputs": [
    {
     "name": "stdout",
     "output_type": "stream",
     "text": [
      "1 1 4 6 6 7 23 "
     ]
    }
   ],
   "source": [
    "public class InsertionSort {\n",
    "    public void sort(int arr[]) {\n",
    "        for (int i = 1; i < arr.length; ++i) {\n",
    "            int key = arr[i];\n",
    "            int j = i - 1;\n",
    "            while (j >= 0 && arr[j] > key) {\n",
    "                arr[j + 1] = arr[j];\n",
    "                j = j - 1;\n",
    "            }\n",
    "            arr[j + 1] = key;\n",
    "        }\n",
    "    }\n",
    "    public static void main() {\n",
    "        InsertionSort ob = new InsertionSort();\n",
    "        int arr[] = {1,7,23,6,4,6,1};\n",
    "        ob.sort(arr);\n",
    "        for (int i = 0; i < arr.length; i++) {\n",
    "            System.out.print(arr[i] + \" \");\n",
    "        }\n",
    "    }\n",
    "}\n",
    "InsertionSort.main();"
   ]
  },
  {
   "attachments": {},
   "cell_type": "markdown",
   "metadata": {},
   "source": [
    "## Selection Sort\n",
    "The algorithm repeatedly selects the min (or max) element from the unsorted part of the list and swaps it with the first element of the unsorted part until the entire list is sorted. The algorithm maintains two subarrays in a given array: the subarray which already sorted and the remaining subarray was unsorted. In every iteration of the selection sort, the min element is picked and moved to the beginning of the sorted subarray. After every iteration sorted subarray size increase by one and the unsorted subarray size decrease by one."
   ]
  },
  {
   "cell_type": "code",
   "execution_count": 12,
   "metadata": {
    "vscode": {
     "languageId": "java"
    }
   },
   "outputs": [
    {
     "name": "stdout",
     "output_type": "stream",
     "text": [
      "1 1 4 6 6 7 23 "
     ]
    }
   ],
   "source": [
    "public class SelectionSort {\n",
    "    public void sort(int arr[]) {\n",
    "        for (int i = 0; i < arr.length-1; i++) {\n",
    "            int min_idx = i;\n",
    "            for (int j = i+1; j < arr.length; j++) {\n",
    "                if (arr[j] < arr[min_idx])\n",
    "                    min_idx = j;\n",
    "            }\n",
    "            int temp = arr[min_idx];\n",
    "            arr[min_idx] = arr[i];\n",
    "            arr[i] = temp;\n",
    "        }\n",
    "    }\n",
    "    public static void main() {\n",
    "        SelectionSort ob = new SelectionSort();\n",
    "        int arr[] = {1,7,23,6,4,6,1};\n",
    "        ob.sort(arr);\n",
    "        for (int i = 0; i < arr.length; i++) {\n",
    "            System.out.print(arr[i] + \" \");\n",
    "        }\n",
    "    }\n",
    "}\n",
    "InsertionSort.main();"
   ]
  },
  {
   "attachments": {},
   "cell_type": "markdown",
   "metadata": {},
   "source": [
    "## Heap Sort\n",
    "Heap Sort is a comparison-based sorting technique based on Binary Heap data structure. It is similar to the selection sort where we first find the minimum element and place the minimum element at the beginning. Repeat the same process for the remaining elements. This algorithm uses the function heapSort() to construct the max heap initially for use. Once done, every root element is extracted and sent to the end of the array. The root is again extracted and sent to the end of the array, repeating again. The sort also uses the function heapify() to determine the maximum from the element being examined as the root and its two children. If the maximum is among the children of the root, the root and its child are swapped. When the maximum element in the array is found the function stops.\n"
   ]
  },
  {
   "attachments": {},
   "cell_type": "markdown",
   "metadata": {},
   "source": [
    "## Sorting Hack: \n",
    "Write a insertion or selection sort program that sorts an ArrayList<Country> in decreasing order so that the largest country is at the beginning of the array (Create your own Country class with size). Use a Comparator.\n",
    "### Bonus Hack:\n",
    "Use heap sort to do the above"
   ]
  },
  {
   "cell_type": "code",
   "execution_count": 1,
   "metadata": {
    "vscode": {
     "languageId": "java"
    }
   },
   "outputs": [],
   "source": [
    "import java.util.*;\n",
    "public class Country extends Comparable<Country> {\n",
    "    int size;\n",
    "    public Country(int size) {\n",
    "        this.size = size;\n",
    "    }\n\n",
    "    public int compareTo(Country other) {\n",
    "        return other.size - this.size;\n",
    "    }\n",
    "}\n"
   ]
  }
 ],
 "metadata": {
  "kernelspec": {
   "display_name": "Java",
   "language": "java",
   "name": "java"
  },
  "language_info": {
   "codemirror_mode": "java",
   "file_extension": ".jshell",
   "mimetype": "text/x-java-source",
   "name": "Java",
   "pygments_lexer": "java",
   "version": "11.0.17+8-post-Ubuntu-1ubuntu220.04"
  },
  "orig_nbformat": 4
 },
 "nbformat": 4,
 "nbformat_minor": 2
}
