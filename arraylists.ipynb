{
 "cells": [
  {
   "attachments": {},
   "cell_type": "markdown",
   "metadata": {},
   "source": [
    "# ArrayList\n",
    "- toc: false\n",
    "- badges: true\n",
    "- categories: [cb]\n",
    "- author: Codelingo"
   ]
  },
  {
   "attachments": {},
   "cell_type": "markdown",
   "metadata": {},
   "source": [
    "## What are ArrayLists?\n",
    "An ArrayList is a collection that stores objects. To create an ArrayList, declare a variable with a data type of ArrayList, and point it to a new ArrayList object. The initial size of an ArrayList is zero. The size of an ArrayList depends on the methods called.\n",
    "\n",
    "Creating an Arraylist:\n",
    "ArrayList<type> nameofarraylist= new ArrayList<type>();"
   ]
  },
  {
   "cell_type": "code",
   "execution_count": 1,
   "metadata": {
    "vscode": {
     "languageId": "java"
    }
   },
   "outputs": [],
   "source": [
    "ArrayList<Integer> list = new ArrayList<Integer>();"
   ]
  },
  {
   "attachments": {},
   "cell_type": "markdown",
   "metadata": {},
   "source": [
    "# Useful Arraylist Methods\n",
    "The following are commonly used methods for ArrayList:"
   ]
  },
  {
   "cell_type": "code",
   "execution_count": null,
   "metadata": {
    "vscode": {
     "languageId": "java"
    }
   },
   "outputs": [],
   "source": [
    "arrayList.add(element);\n",
    "arrayList.add(index, element);\n",
    "arrayList.set(index, element);\n",
    "arrayList.remove(index);\n",
    "arrayList.get(index);\n",
    "arrayList.size();"
   ]
  },
  {
   "attachments": {},
   "cell_type": "markdown",
   "metadata": {},
   "source": [
    "# Traversing through an Arraylist"
   ]
  },
  {
   "cell_type": "code",
   "execution_count": 1,
   "metadata": {
    "vscode": {
     "languageId": "java"
    }
   },
   "outputs": [
    {
     "name": "stdout",
     "output_type": "stream",
     "text": [
      "1\n",
      "2\n",
      "3\n",
      "4\n",
      "5\n"
     ]
    }
   ],
   "source": [
    "// Using an enhanced for loop\n",
    "ArrayList<Integer> list = new ArrayList<Integer>();\n",
    "list.add(1);\n",
    "list.add(2);\n",
    "list.add(3);\n",
    "list.add(4);\n",
    "list.add(5);\n",
    "for (Integer element: list) {\n",
    "    System.out.println(element);\n",
    "}"
   ]
  },
  {
   "cell_type": "code",
   "execution_count": 5,
   "metadata": {
    "vscode": {
     "languageId": "java"
    }
   },
   "outputs": [
    {
     "name": "stdout",
     "output_type": "stream",
     "text": [
      "1\n",
      "2\n",
      "3\n",
      "4\n",
      "5\n"
     ]
    }
   ],
   "source": [
    "// Using a for loop\n",
    "for (int i = 0; i < list.size(); i++) {\n",
    "    System.out.println(list.get(i));\n",
    "}"
   ]
  },
  {
   "attachments": {},
   "cell_type": "markdown",
   "metadata": {},
   "source": [
    "## Arraylist Hacks:\n",
    "Choose two of these options to do.\n",
    "- Test if two arraylists contain the same elements in reverse order\n",
    "- Overwrite all the elements in an arraylist with the alphabet\n",
    "- Remove every other element from an arraylist"
   ]
  },
  {
   "cell_type": "code",
   "execution_count": 3,
   "metadata": {
    "vscode": {
     "languageId": "java"
    }
   },
   "outputs": [
    {
     "name": "stdout",
     "output_type": "stream",
     "text": [
      "true\n",
      "false\n"
     ]
    }
   ],
   "source": [
    "// Test if two arraylists contain same elements in reverse order\n",
    "public boolean isSameRev(ArrayList a, ArrayList b) {\n",
    "    if (a.size() != b.size()) return false;\n",
    "    for (int i = 0; i<a.size()/2 + 1; i++) {\n",
    "        if (!a.get(i).equals(b.get(b.size()-i-1))) return false;\n",
    "    }\n",
    "    return true;\n",
    "}\n",
    "\n",
    "ArrayList<Integer> a = new ArrayList<Integer>();\n",
    "a.add(1);\n",
    "a.add(2);\n",
    "a.add(3);\n",
    "\n",
    "ArrayList<Integer> b = new ArrayList<Integer>();\n",
    "b.add(3);\n",
    "b.add(2);\n",
    "b.add(1);\n",
    "\n",
    "System.out.println(isSameRev(a, b));\n",
    "System.out.println(isSameRev(a, a));"
   ]
  },
  {
   "cell_type": "code",
   "execution_count": 5,
   "metadata": {
    "vscode": {
     "languageId": "java"
    }
   },
   "outputs": [
    {
     "name": "stdout",
     "output_type": "stream",
     "text": [
      "[2, 4]\n"
     ]
    }
   ],
   "source": [
    "// Remove every other elmeent from arraylist\n",
    "public void removeEveryOther(ArrayList a) {\n",
    "    for (int i = 0; i<a.size(); i++) {\n",
    "        a.remove(i);\n",
    "    }\n",
    "}\n",
    "\n",
    "ArrayList<Integer> a = new ArrayList<Integer>();\n",
    "a.add(1);\n",
    "a.add(2);\n",
    "a.add(3);\n",
    "a.add(4);\n",
    "a.add(5);\n",
    "\n",
    "// removes 1, 3, 5\n",
    "removeEveryOther(a);\n",
    "\n",
    "System.out.println(a);"
   ]
  }
 ],
 "metadata": {
  "kernelspec": {
   "display_name": "Java",
   "language": "java",
   "name": "java"
  },
  "language_info": {
   "codemirror_mode": "java",
   "file_extension": ".jshell",
   "mimetype": "text/x-java-source",
   "name": "Java",
   "pygments_lexer": "java",
   "version": "17-ea+11-Ubuntu-116.042"
  },
  "orig_nbformat": 4
 },
 "nbformat": 4,
 "nbformat_minor": 2
}
